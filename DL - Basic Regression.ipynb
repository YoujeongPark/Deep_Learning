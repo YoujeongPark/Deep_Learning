{
 "cells": [
  {
   "cell_type": "markdown",
   "metadata": {},
   "source": [
    "## Basic Regression Model "
   ]
  },
  {
   "cell_type": "code",
   "execution_count": null,
   "metadata": {},
   "outputs": [],
   "source": []
  },
  {
   "cell_type": "markdown",
   "metadata": {},
   "source": [
    "## Basic Regression Model "
   ]
  },
  {
   "cell_type": "code",
   "execution_count": null,
   "metadata": {},
   "outputs": [],
   "source": [
    "from tensorflow.keras.datasets import boston_housing\n",
    "import tensorflow as tf\n",
    "(X_train, Y_train), (X_test, Y_test) = boston_housing.load_data()"
   ]
  },
  {
   "cell_type": "code",
   "execution_count": 14,
   "metadata": {},
   "outputs": [
    {
     "name": "stdout",
     "output_type": "stream",
     "text": [
      "(404, 13)\n",
      "(404,)\n"
     ]
    }
   ],
   "source": [
    "print(X_train.shape)\n",
    "print(Y_train.shape)"
   ]
  },
  {
   "cell_type": "code",
   "execution_count": 15,
   "metadata": {},
   "outputs": [],
   "source": [
    "def data_regularization(train,test):\n",
    "    mean = train.mean()\n",
    "    std = train.std()\n",
    "    train -=mean\n",
    "    train /=std\n",
    "    test -=mean\n",
    "    test /=std\n",
    "    \n",
    "    return train, test"
   ]
  },
  {
   "cell_type": "code",
   "execution_count": 16,
   "metadata": {},
   "outputs": [],
   "source": [
    "X_train, Y_train = data_regularization(X_train, Y_train)\n",
    "X_test, Y_test = data_regularization(X_test, Y_test)"
   ]
  },
  {
   "cell_type": "code",
   "execution_count": 17,
   "metadata": {},
   "outputs": [],
   "source": [
    "model = tf.keras.Sequential([\n",
    "    tf.keras.layers.Dense(units = 52, activation = 'relu', input_shape = (13,)),\n",
    "    tf.keras.layers.Dense(units = 26, activation = 'relu'),\n",
    "    tf.keras.layers.Dense(units = 18, activation = 'relu'),\n",
    "    tf.keras.layers.Dense(units = 1 )\n",
    "    \n",
    "])"
   ]
  },
  {
   "cell_type": "code",
   "execution_count": 20,
   "metadata": {},
   "outputs": [
    {
     "name": "stdout",
     "output_type": "stream",
     "text": [
      "Model: \"sequential_1\"\n",
      "_________________________________________________________________\n",
      "Layer (type)                 Output Shape              Param #   \n",
      "=================================================================\n",
      "dense_4 (Dense)              (None, 52)                728       \n",
      "_________________________________________________________________\n",
      "dense_5 (Dense)              (None, 26)                1378      \n",
      "_________________________________________________________________\n",
      "dense_6 (Dense)              (None, 18)                486       \n",
      "_________________________________________________________________\n",
      "dense_7 (Dense)              (None, 1)                 19        \n",
      "=================================================================\n",
      "Total params: 2,611\n",
      "Trainable params: 2,611\n",
      "Non-trainable params: 0\n",
      "_________________________________________________________________\n"
     ]
    }
   ],
   "source": [
    "model.compile(optimizer=tf.keras.optimizers.Adam(lr=0.07), loss = 'mse')\n",
    "model.summary()"
   ]
  },
  {
   "cell_type": "code",
   "execution_count": 25,
   "metadata": {},
   "outputs": [
    {
     "name": "stdout",
     "output_type": "stream",
     "text": [
      "Train on 303 samples, validate on 101 samples\n",
      "Epoch 1/25\n",
      "303/303 [==============================] - 0s 72us/sample - loss: 0.0028 - val_loss: 0.0051\n",
      "Epoch 2/25\n",
      "303/303 [==============================] - 0s 77us/sample - loss: 0.0028 - val_loss: 0.0044\n",
      "Epoch 3/25\n",
      "303/303 [==============================] - 0s 63us/sample - loss: 0.0026 - val_loss: 0.0042\n",
      "Epoch 4/25\n",
      "303/303 [==============================] - 0s 66us/sample - loss: 0.0027 - val_loss: 0.0043\n",
      "Epoch 5/25\n",
      "303/303 [==============================] - 0s 66us/sample - loss: 0.0029 - val_loss: 0.0042\n",
      "Epoch 6/25\n",
      "303/303 [==============================] - 0s 72us/sample - loss: 0.0028 - val_loss: 0.0042\n",
      "Epoch 7/25\n",
      "303/303 [==============================] - 0s 66us/sample - loss: 0.0027 - val_loss: 0.0045\n",
      "Epoch 8/25\n",
      "303/303 [==============================] - 0s 68us/sample - loss: 0.0028 - val_loss: 0.0045\n",
      "Epoch 9/25\n",
      "303/303 [==============================] - 0s 66us/sample - loss: 0.0033 - val_loss: 0.0042\n",
      "Epoch 10/25\n",
      "303/303 [==============================] - 0s 63us/sample - loss: 0.0033 - val_loss: 0.0044\n",
      "Epoch 11/25\n",
      "303/303 [==============================] - 0s 63us/sample - loss: 0.0029 - val_loss: 0.0043\n",
      "Epoch 12/25\n",
      "303/303 [==============================] - 0s 55us/sample - loss: 0.0027 - val_loss: 0.0041\n",
      "Epoch 13/25\n",
      "303/303 [==============================] - 0s 56us/sample - loss: 0.0027 - val_loss: 0.0042\n",
      "Epoch 14/25\n",
      "303/303 [==============================] - 0s 59us/sample - loss: 0.0026 - val_loss: 0.0041\n",
      "Epoch 15/25\n",
      "303/303 [==============================] - 0s 56us/sample - loss: 0.0026 - val_loss: 0.0045\n",
      "Epoch 16/25\n",
      "303/303 [==============================] - 0s 52us/sample - loss: 0.0026 - val_loss: 0.0052\n",
      "Epoch 17/25\n",
      "303/303 [==============================] - 0s 63us/sample - loss: 0.0027 - val_loss: 0.0042\n",
      "Epoch 18/25\n",
      "303/303 [==============================] - 0s 58us/sample - loss: 0.0026 - val_loss: 0.0046\n",
      "Epoch 19/25\n",
      "303/303 [==============================] - 0s 59us/sample - loss: 0.0026 - val_loss: 0.0042\n",
      "Epoch 20/25\n",
      "303/303 [==============================] - 0s 56us/sample - loss: 0.0025 - val_loss: 0.0041\n",
      "Epoch 21/25\n",
      "303/303 [==============================] - 0s 55us/sample - loss: 0.0026 - val_loss: 0.0041\n",
      "Epoch 22/25\n",
      "303/303 [==============================] - 0s 59us/sample - loss: 0.0028 - val_loss: 0.0041\n",
      "Epoch 23/25\n",
      "303/303 [==============================] - 0s 59us/sample - loss: 0.0027 - val_loss: 0.0041\n",
      "Epoch 24/25\n",
      "303/303 [==============================] - 0s 59us/sample - loss: 0.0026 - val_loss: 0.0044\n",
      "Epoch 25/25\n",
      "303/303 [==============================] - 0s 59us/sample - loss: 0.0026 - val_loss: 0.0041\n"
     ]
    }
   ],
   "source": [
    "history = model.fit(X_train, Y_train, epochs = 25, batch_size = 32, validation_split = 0.25)\n",
    "callbacks = [tf.keras.callbacks.EarlyStopping(patience=3, monitor = 'val_loss')]"
   ]
  },
  {
   "cell_type": "code",
   "execution_count": 26,
   "metadata": {},
   "outputs": [
    {
     "data": {
      "image/png": "[encoded data removed]",
      "text/plain": [
       "<Figure size 432x288 with 1 Axes>"
      ]
     },
     "metadata": {
      "needs_background": "light"
     },
     "output_type": "display_data"
    }
   ],
   "source": [
    "import matplotlib.pyplot as plt\n",
    "plt.plot(history.history['loss'],'b-',label = 'loss')\n",
    "plt.plot(history.history['val_loss'],'r--',label = 'val_loss')\n",
    "plt.xlabel('Epoch')\n",
    "plt.legend()\n",
    "plt.show()"
   ]
  },
  {
   "cell_type": "code",
   "execution_count": 27,
   "metadata": {},
   "outputs": [
    {
     "name": "stdout",
     "output_type": "stream",
     "text": [
      "102/102 [==============================] - 0s 59us/sample - loss: 0.0025\n"
     ]
    },
    {
     "data": {
      "text/plain": [
       "0.0025197975611423746"
      ]
     },
     "execution_count": 27,
     "metadata": {},
     "output_type": "execute_result"
    }
   ],
   "source": [
    "model.evaluate(X_test, Y_test)"
   ]
  },
  {
   "cell_type": "code",
   "execution_count": 29,
   "metadata": {},
   "outputs": [
    {
     "data": {
      "text/plain": [
       "[<matplotlib.lines.Line2D at 0x1d21e0d3128>]"
      ]
     },
     "execution_count": 29,
     "metadata": {},
     "output_type": "execute_result"
    },
    {
     "data": {
      "image/png": "[encoded data removed]",
      "text/plain": [
       "<Figure size 360x360 with 1 Axes>"
      ]
     },
     "metadata": {
      "needs_background": "light"
     },
     "output_type": "display_data"
    }
   ],
   "source": [
    "pred_Y = model.predict(X_test)\n",
    "plt.figure(figsize = (5,5))\n",
    "plt.plot(Y_test,pred_Y,'b.')"
   ]
  }
 ],
 "metadata": {
  "kernelspec": {
   "display_name": "py36_2",
   "language": "python",
   "name": "py36_2"
  },
  "language_info": {
   "codemirror_mode": {
    "name": "ipython",
    "version": 3
   },
   "file_extension": ".py",
   "mimetype": "text/x-python",
   "name": "python",
   "nbconvert_exporter": "python",
   "pygments_lexer": "ipython3",
   "version": "3.6.10"
  }
 },
 "nbformat": 4,
 "nbformat_minor": 2
}
