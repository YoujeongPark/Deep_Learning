{
 "cells": [
  {
   "cell_type": "markdown",
   "metadata": {},
   "source": [
    "# Only Dense Function "
   ]
  },
  {
   "cell_type": "code",
   "execution_count": null,
   "metadata": {},
   "outputs": [],
   "source": [
    "import tensorflow as tf\n",
    "print(tf.__version__)"
   ]
  },
  {
   "cell_type": "code",
   "execution_count": 29,
   "metadata": {},
   "outputs": [],
   "source": [
    "fashion_mnist = tf.keras.datasets.fashion_mnist\n",
    "(train_X, train_Y), (test_X, test_Y) = fashion_mnist.load_data()\n",
    "train_X = train_X/255.0\n",
    "test_X = test_X/255.0"
   ]
  },
  {
   "cell_type": "code",
   "execution_count": 30,
   "metadata": {},
   "outputs": [
    {
     "data": {
      "text/plain": [
       "28"
      ]
     },
     "execution_count": 30,
     "metadata": {},
     "output_type": "execute_result"
    }
   ],
   "source": [
    "train_X[0].shape[0]"
   ]
  },
  {
   "cell_type": "code",
   "execution_count": 31,
   "metadata": {},
   "outputs": [],
   "source": [
    "train_X = train_X.reshape(-1,28*28)\n",
    "test_X = test_X.reshape(-1,28*28)"
   ]
  },
  {
   "cell_type": "code",
   "execution_count": 32,
   "metadata": {},
   "outputs": [],
   "source": [
    "model = tf.keras.Sequential([\n",
    "    tf.keras.layers.Dense(units = 784, activation = 'relu', input_shape = (784,)),\n",
    "    tf.keras.layers.Dense(units = 26, activation = 'relu'),\n",
    "    tf.keras.layers.Dense(units = 784, activation = 'sigmoid'),\n",
    "    \n",
    "])"
   ]
  },
  {
   "cell_type": "code",
   "execution_count": 33,
   "metadata": {},
   "outputs": [
    {
     "name": "stdout",
     "output_type": "stream",
     "text": [
      "Model: \"sequential_2\"\n",
      "_________________________________________________________________\n",
      "Layer (type)                 Output Shape              Param #   \n",
      "=================================================================\n",
      "dense_6 (Dense)              (None, 784)               615440    \n",
      "_________________________________________________________________\n",
      "dense_7 (Dense)              (None, 26)                20410     \n",
      "_________________________________________________________________\n",
      "dense_8 (Dense)              (None, 784)               21168     \n",
      "=================================================================\n",
      "Total params: 657,018\n",
      "Trainable params: 657,018\n",
      "Non-trainable params: 0\n",
      "_________________________________________________________________\n"
     ]
    }
   ],
   "source": [
    "model.compile(optimizer = tf.optimizers.Adam(), loss = \"mse\")\n",
    "model.summary()"
   ]
  },
  {
   "cell_type": "code",
   "execution_count": 34,
   "metadata": {},
   "outputs": [
    {
     "name": "stdout",
     "output_type": "stream",
     "text": [
      "Train on 60000 samples\n",
      "Epoch 1/10\n",
      "60000/60000 [==============================] - 2s 33us/sample - loss: 0.0530\n",
      "Epoch 2/10\n",
      "60000/60000 [==============================] - 2s 29us/sample - loss: 0.0239\n",
      "Epoch 3/10\n",
      "60000/60000 [==============================] - 2s 28us/sample - loss: 0.0207\n",
      "Epoch 4/10\n",
      "60000/60000 [==============================] - 2s 28us/sample - loss: 0.0190\n",
      "Epoch 5/10\n",
      "60000/60000 [==============================] - 2s 30us/sample - loss: 0.0179\n",
      "Epoch 6/10\n",
      "60000/60000 [==============================] - 2s 27us/sample - loss: 0.0168\n",
      "Epoch 7/10\n",
      "60000/60000 [==============================] - 2s 28us/sample - loss: 0.0159\n",
      "Epoch 8/10\n",
      "60000/60000 [==============================] - 2s 30us/sample - loss: 0.0155\n",
      "Epoch 9/10\n",
      "60000/60000 [==============================] - 2s 28us/sample - loss: 0.0151\n",
      "Epoch 10/10\n",
      "60000/60000 [==============================] - 2s 28us/sample - loss: 0.0147\n"
     ]
    },
    {
     "data": {
      "text/plain": [
       "<tensorflow.python.keras.callbacks.History at 0x1f2b6f35710>"
      ]
     },
     "execution_count": 34,
     "metadata": {},
     "output_type": "execute_result"
    }
   ],
   "source": [
    "model.fit(train_X, train_X, epochs = 10, batch_size = 256)"
   ]
  },
  {
   "cell_type": "code",
   "execution_count": 35,
   "metadata": {},
   "outputs": [
    {
     "name": "stdout",
     "output_type": "stream",
     "text": [
      "10000/10000 [==============================] - 0s 27us/sample - loss: 0.0147\n"
     ]
    },
    {
     "data": {
      "text/plain": [
       "0.014667086175084115"
      ]
     },
     "execution_count": 35,
     "metadata": {},
     "output_type": "execute_result"
    }
   ],
   "source": [
    "model.evaluate(test_X,test_X)"
   ]
  },
  {
   "cell_type": "code",
   "execution_count": 36,
   "metadata": {},
   "outputs": [],
   "source": [
    "train_X = train_X.reshape(-1,28,28,1)\n",
    "test_X = test_X.reshape(-1,28,28,1)"
   ]
  },
  {
   "cell_type": "code",
   "execution_count": 41,
   "metadata": {},
   "outputs": [],
   "source": [
    "model = tf.keras.Sequential([\n",
    "        tf.keras.layers.Conv2D(filters = 32, kernel_size = 2, strides = (2,2), activation = \"relu\", input_shape = (28,28,1)),\n",
    "        tf.keras.layers.Conv2D(filters = 64, kernel_size = 2, strides = (2,2), activation = \"relu\"),\n",
    "        tf.keras.layers.Flatten(),\n",
    "        tf.keras.layers.Dense(64, activation = 'elu'),\n",
    "        tf.keras.layers.Dense(7*7*64,activation = 'elu'),\n",
    "        tf.keras.layers.Reshape(target_shape = (7,7,64)),\n",
    "        tf.keras.layers.Conv2DTranspose(filters = 32, kernel_size = 2, strides = (2,2),padding = \"same\", activation = \"elu\"),\n",
    "        tf.keras.layers.Conv2DTranspose(filters = 1, kernel_size = 2, strides = (2,2), padding = \"same\",activation = \"sigmoid\"),\n",
    "    \n",
    "])"
   ]
  },
  {
   "cell_type": "code",
   "execution_count": 43,
   "metadata": {},
   "outputs": [
    {
     "name": "stdout",
     "output_type": "stream",
     "text": [
      "Train on 60000 samples\n",
      "Epoch 1/20\n",
      "60000/60000 [==============================] - 9s 151us/sample - loss: 0.0444\n",
      "Epoch 2/20\n",
      "60000/60000 [==============================] - 9s 147us/sample - loss: 0.0168\n",
      "Epoch 3/20\n",
      "60000/60000 [==============================] - 9s 147us/sample - loss: 0.0136\n",
      "Epoch 4/20\n",
      "60000/60000 [==============================] - 9s 144us/sample - loss: 0.0121\n",
      "Epoch 5/20\n",
      "60000/60000 [==============================] - 9s 147us/sample - loss: 0.0112\n",
      "Epoch 6/20\n",
      "60000/60000 [==============================] - 9s 149us/sample - loss: 0.0107\n",
      "Epoch 7/20\n",
      "60000/60000 [==============================] - 9s 151us/sample - loss: 0.0103\n",
      "Epoch 8/20\n",
      "60000/60000 [==============================] - 9s 153us/sample - loss: 0.0100\n",
      "Epoch 9/20\n",
      "60000/60000 [==============================] - 9s 147us/sample - loss: 0.0098\n",
      "Epoch 10/20\n",
      "60000/60000 [==============================] - 9s 148us/sample - loss: 0.0096\n",
      "Epoch 11/20\n",
      "60000/60000 [==============================] - 12s 197us/sample - loss: 0.0094\n",
      "Epoch 12/20\n",
      "60000/60000 [==============================] - 13s 213us/sample - loss: 0.0093\n",
      "Epoch 13/20\n",
      "60000/60000 [==============================] - 13s 213us/sample - loss: 0.0092\n",
      "Epoch 14/20\n",
      "60000/60000 [==============================] - 13s 214us/sample - loss: 0.0091\n",
      "Epoch 15/20\n",
      "60000/60000 [==============================] - 13s 216us/sample - loss: 0.0090\n",
      "Epoch 16/20\n",
      "60000/60000 [==============================] - 12s 207us/sample - loss: 0.0089\n",
      "Epoch 17/20\n",
      "60000/60000 [==============================] - 12s 200us/sample - loss: 0.0088\n",
      "Epoch 18/20\n",
      "60000/60000 [==============================] - 12s 198us/sample - loss: 0.0087\n",
      "Epoch 19/20\n",
      "60000/60000 [==============================] - 12s 198us/sample - loss: 0.0087\n",
      "Epoch 20/20\n",
      "60000/60000 [==============================] - 12s 195us/sample - loss: 0.0086\n"
     ]
    },
    {
     "data": {
      "text/plain": [
       "<tensorflow.python.keras.callbacks.History at 0x1f2b8c9d160>"
      ]
     },
     "execution_count": 43,
     "metadata": {},
     "output_type": "execute_result"
    }
   ],
   "source": [
    "model.compile(optimizer = tf.optimizers.Adam(), loss = \"mse\")\n",
    "model.fit(train_X, train_X, epochs = 20, batch_size = 256)"
   ]
  }
 ],
 "metadata": {
  "kernelspec": {
   "display_name": "test1",
   "language": "python",
   "name": "test1"
  },
  "language_info": {
   "codemirror_mode": {
    "name": "ipython",
    "version": 3
   },
   "file_extension": ".py",
   "mimetype": "text/x-python",
   "name": "python",
   "nbconvert_exporter": "python",
   "pygments_lexer": "ipython3",
   "version": "3.7.4"
  }
 },
 "nbformat": 4,
 "nbformat_minor": 2
}
