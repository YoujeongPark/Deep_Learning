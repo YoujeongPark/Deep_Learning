{
 "cells": [
  {
   "cell_type": "markdown",
   "metadata": {},
   "source": [
    "# Clustering"
   ]
  },
  {
   "cell_type": "code",
   "execution_count": 1,
   "metadata": {},
   "outputs": [
    {
     "name": "stdout",
     "output_type": "stream",
     "text": [
      "2.1.0\n"
     ]
    }
   ],
   "source": [
    "import tensorflow as tf\n",
    "print(tf.__version__)"
   ]
  },
  {
   "cell_type": "code",
   "execution_count": 2,
   "metadata": {},
   "outputs": [],
   "source": [
    "fashion_mnist = tf.keras.datasets.fashion_mnist\n",
    "(train_X, train_Y), (test_X, test_Y) = fashion_mnist.load_data()\n",
    "train_X = train_X/255.0\n",
    "test_X = test_X/255.0"
   ]
  },
  {
   "cell_type": "code",
   "execution_count": 3,
   "metadata": {},
   "outputs": [],
   "source": [
    "train_X = train_X.reshape(-1,28,28,1)\n",
    "test_X = test_X.reshape(-1,28,28,1)"
   ]
  },
  {
   "cell_type": "code",
   "execution_count": 4,
   "metadata": {},
   "outputs": [],
   "source": [
    "model = tf.keras.Sequential([\n",
    "        tf.keras.layers.Conv2D(filters = 32, kernel_size = 2, strides = (2,2), activation = \"relu\", input_shape = (28,28,1)),\n",
    "        tf.keras.layers.Conv2D(filters = 64, kernel_size = 2, strides = (2,2), activation = \"relu\"),\n",
    "        tf.keras.layers.Flatten(),\n",
    "        tf.keras.layers.Dense(64, activation = 'elu'),\n",
    "        tf.keras.layers.Dense(7*7*64,activation = 'elu'),\n",
    "        tf.keras.layers.Reshape(target_shape = (7,7,64)),\n",
    "        tf.keras.layers.Conv2DTranspose(filters = 32, kernel_size = 2, strides = (2,2),padding = \"same\", activation = \"elu\"),\n",
    "        tf.keras.layers.Conv2DTranspose(filters = 1, kernel_size = 2, strides = (2,2), padding = \"same\",activation = \"sigmoid\"),\n",
    "    \n",
    "])"
   ]
  },
  {
   "cell_type": "code",
   "execution_count": 5,
   "metadata": {},
   "outputs": [
    {
     "name": "stdout",
     "output_type": "stream",
     "text": [
      "Train on 60000 samples\n",
      "Epoch 1/20\n",
      "60000/60000 [==============================] - 13s 215us/sample - loss: 0.0426\n",
      "Epoch 2/20\n",
      "60000/60000 [==============================] - 12s 202us/sample - loss: 0.0164\n",
      "Epoch 3/20\n",
      "60000/60000 [==============================] - 12s 207us/sample - loss: 0.0134\n",
      "Epoch 4/20\n",
      "60000/60000 [==============================] - 12s 205us/sample - loss: 0.0121\n",
      "Epoch 5/20\n",
      "60000/60000 [==============================] - 12s 200us/sample - loss: 0.0113\n",
      "Epoch 6/20\n",
      "60000/60000 [==============================] - 12s 194us/sample - loss: 0.0109\n",
      "Epoch 7/20\n",
      "60000/60000 [==============================] - 12s 196us/sample - loss: 0.0105\n",
      "Epoch 8/20\n",
      "60000/60000 [==============================] - 12s 195us/sample - loss: 0.0102\n",
      "Epoch 9/20\n",
      "60000/60000 [==============================] - 12s 196us/sample - loss: 0.0100\n",
      "Epoch 10/20\n",
      "60000/60000 [==============================] - 11s 190us/sample - loss: 0.0098\n",
      "Epoch 11/20\n",
      "60000/60000 [==============================] - 9s 146us/sample - loss: 0.0096\n",
      "Epoch 12/20\n",
      "60000/60000 [==============================] - 9s 146us/sample - loss: 0.0095\n",
      "Epoch 13/20\n",
      "60000/60000 [==============================] - 9s 150us/sample - loss: 0.0094\n",
      "Epoch 14/20\n",
      "60000/60000 [==============================] - 8s 141us/sample - loss: 0.0093\n",
      "Epoch 15/20\n",
      "60000/60000 [==============================] - 9s 146us/sample - loss: 0.0092\n",
      "Epoch 16/20\n",
      "60000/60000 [==============================] - 9s 143us/sample - loss: 0.0091\n",
      "Epoch 17/20\n",
      "60000/60000 [==============================] - 9s 148us/sample - loss: 0.0090\n",
      "Epoch 18/20\n",
      "60000/60000 [==============================] - 8s 140us/sample - loss: 0.0089\n",
      "Epoch 19/20\n",
      "60000/60000 [==============================] - 8s 141us/sample - loss: 0.0089\n",
      "Epoch 20/20\n",
      "60000/60000 [==============================] - 8s 141us/sample - loss: 0.0088\n"
     ]
    },
    {
     "data": {
      "text/plain": [
       "<tensorflow.python.keras.callbacks.History at 0x2eba0920e80>"
      ]
     },
     "execution_count": 5,
     "metadata": {},
     "output_type": "execute_result"
    }
   ],
   "source": [
    "model.compile(optimizer = tf.optimizers.Adam(), loss = \"mse\")\n",
    "model.fit(train_X, train_X, epochs = 20, batch_size = 256)"
   ]
  },
  {
   "cell_type": "code",
   "execution_count": 6,
   "metadata": {},
   "outputs": [
    {
     "data": {
      "text/plain": [
       "<tf.Tensor 'conv2d_input:0' shape=(None, 28, 28, 1) dtype=float32>"
      ]
     },
     "execution_count": 6,
     "metadata": {},
     "output_type": "execute_result"
    }
   ],
   "source": [
    "model.input"
   ]
  },
  {
   "cell_type": "code",
   "execution_count": 8,
   "metadata": {},
   "outputs": [
    {
     "data": {
      "text/plain": [
       "<tf.Tensor 'dense/Identity:0' shape=(None, 64) dtype=float32>"
      ]
     },
     "execution_count": 8,
     "metadata": {},
     "output_type": "execute_result"
    }
   ],
   "source": [
    "model.layers[3].output"
   ]
  },
  {
   "cell_type": "code",
   "execution_count": null,
   "metadata": {},
   "outputs": [],
   "source": []
  },
  {
   "cell_type": "code",
   "execution_count": null,
   "metadata": {},
   "outputs": [],
   "source": []
  },
  {
   "cell_type": "code",
   "execution_count": null,
   "metadata": {},
   "outputs": [],
   "source": []
  },
  {
   "cell_type": "code",
   "execution_count": null,
   "metadata": {},
   "outputs": [],
   "source": []
  },
  {
   "cell_type": "code",
   "execution_count": null,
   "metadata": {},
   "outputs": [],
   "source": []
  }
 ],
 "metadata": {
  "kernelspec": {
   "display_name": "test1",
   "language": "python",
   "name": "test1"
  },
  "language_info": {
   "codemirror_mode": {
    "name": "ipython",
    "version": 3
   },
   "file_extension": ".py",
   "mimetype": "text/x-python",
   "name": "python",
   "nbconvert_exporter": "python",
   "pygments_lexer": "ipython3",
   "version": "3.7.4"
  }
 },
 "nbformat": 4,
 "nbformat_minor": 2
}
